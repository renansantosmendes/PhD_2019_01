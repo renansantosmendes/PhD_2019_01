{
 "cells": [
  {
   "cell_type": "code",
   "execution_count": 1,
   "metadata": {},
   "outputs": [],
   "source": [
    "import os\n",
    "import numpy as np\n",
    "import pandas as pd\n",
    "import matplotlib. pyplot as plt\n",
    "from pygmo import *\n",
    "from scipy.stats import wilcoxon\n",
    "from mpl_toolkits.mplot3d import Axes3D\n",
    "import methods_updated as mt\n",
    "%matplotlib inline"
   ]
  },
  {
   "cell_type": "code",
   "execution_count": 52,
   "metadata": {},
   "outputs": [],
   "source": [
    "instance = 'r050n12tw10k4'"
   ]
  },
  {
   "cell_type": "code",
   "execution_count": 53,
   "metadata": {},
   "outputs": [],
   "source": [
    "file = 'onmoead_kendall-combined_pareto_normalized.csv'\n",
    "current_test = '/home/renansantos/Área de Trabalho/Deb/deb_test/ONLINE_KENDALL'\n",
    "kendall_data = pd.read_csv(os.path.join(current_test, instance, file), header=None)\n",
    "kendall_data.columns='f1 f2 f3 f4 f5 f6 f7 f8'.split()"
   ]
  },
  {
   "cell_type": "code",
   "execution_count": 54,
   "metadata": {},
   "outputs": [],
   "source": [
    "file = 'onmoead_pearson-combined_pareto_normalized.csv'\n",
    "current_test = '/home/renansantos/Área de Trabalho/Deb/deb_test/ONLINE_PEARSON'\n",
    "pearson_data = pd.read_csv(os.path.join(current_test, instance, file), header=None)\n",
    "pearson_data.columns='f1 f2 f3 f4 f5 f6 f7 f8'.split()"
   ]
  },
  {
   "cell_type": "code",
   "execution_count": 55,
   "metadata": {},
   "outputs": [],
   "source": [
    "file = 'moead_r2-combined_pareto_normalized.csv'\n",
    "current_test = '/home/renansantos/Área de Trabalho/Deb/deb_test/MOEAD_R2'\n",
    "offline_data = pd.read_csv(os.path.join(current_test, instance, file), header=None)\n",
    "offline_data.columns='f1 f2 f3 f4 f5 f6 f7 f8'.split()"
   ]
  },
  {
   "cell_type": "code",
   "execution_count": 56,
   "metadata": {},
   "outputs": [],
   "source": [
    "file = 'moead_r8-combined_pareto_normalized.csv'\n",
    "current_test = '/home/renansantos/Área de Trabalho/Deb/deb_test/MOEAD_R8'\n",
    "moead_data = pd.read_csv(os.path.join(current_test, instance, file), header=None)\n",
    "moead_data.columns='f1 f2 f3 f4 f5 f6 f7 f8'.split()"
   ]
  },
  {
   "cell_type": "code",
   "execution_count": 57,
   "metadata": {},
   "outputs": [],
   "source": [
    "algoritm_names_list = ['Off-MOEA/D', r'OnCL $\\tau$-MOEA/D', r'OnCl$\\rho$ -MOEA/D', 'MOEA/D']"
   ]
  },
  {
   "cell_type": "code",
   "execution_count": 58,
   "metadata": {},
   "outputs": [
    {
     "name": "stdout",
     "output_type": "stream",
     "text": [
      "Offline = 11\n",
      "Kendall = 52\n",
      "Pearson = 62\n",
      "MOEA/D = 4249\n"
     ]
    }
   ],
   "source": [
    "print('Offline =', offline_data.shape[0])\n",
    "print('Kendall =', kendall_data.shape[0])\n",
    "print('Pearson =', pearson_data.shape[0])\n",
    "print('MOEA/D =', moead_data.shape[0])"
   ]
  },
  {
   "cell_type": "code",
   "execution_count": 51,
   "metadata": {},
   "outputs": [
    {
     "name": "stdout",
     "output_type": "stream",
     "text": [
      "Offline = 11\n",
      "Kendall = 52\n",
      "Pearson = 62\n",
      "MOEA/D = 4249\n"
     ]
    }
   ],
   "source": [
    "print('Offline =', offline_data.drop_duplicates().shape[0])\n",
    "print('Kendall =', kendall_data.drop_duplicates().shape[0])\n",
    "print('Pearson =', pearson_data.drop_duplicates().shape[0])\n",
    "print('MOEA/D =', moead_data.drop_duplicates().shape[0])"
   ]
  },
  {
   "cell_type": "code",
   "execution_count": 60,
   "metadata": {},
   "outputs": [],
   "source": [
    "a = pd.DataFrame([[1,2,3,4],[1,2,3,4],[1,2,3,4]])"
   ]
  },
  {
   "cell_type": "code",
   "execution_count": 62,
   "metadata": {},
   "outputs": [
    {
     "data": {
      "text/html": [
       "<div>\n",
       "<style scoped>\n",
       "    .dataframe tbody tr th:only-of-type {\n",
       "        vertical-align: middle;\n",
       "    }\n",
       "\n",
       "    .dataframe tbody tr th {\n",
       "        vertical-align: top;\n",
       "    }\n",
       "\n",
       "    .dataframe thead th {\n",
       "        text-align: right;\n",
       "    }\n",
       "</style>\n",
       "<table border=\"1\" class=\"dataframe\">\n",
       "  <thead>\n",
       "    <tr style=\"text-align: right;\">\n",
       "      <th></th>\n",
       "      <th>0</th>\n",
       "      <th>1</th>\n",
       "      <th>2</th>\n",
       "      <th>3</th>\n",
       "    </tr>\n",
       "  </thead>\n",
       "  <tbody>\n",
       "    <tr>\n",
       "      <th>0</th>\n",
       "      <td>1</td>\n",
       "      <td>2</td>\n",
       "      <td>3</td>\n",
       "      <td>4</td>\n",
       "    </tr>\n",
       "  </tbody>\n",
       "</table>\n",
       "</div>"
      ],
      "text/plain": [
       "   0  1  2  3\n",
       "0  1  2  3  4"
      ]
     },
     "execution_count": 62,
     "metadata": {},
     "output_type": "execute_result"
    }
   ],
   "source": [
    "a.drop_duplicates()"
   ]
  },
  {
   "cell_type": "markdown",
   "metadata": {},
   "source": [
    "# Número de soluções no pareto combinado"
   ]
  },
  {
   "cell_type": "code",
   "execution_count": null,
   "metadata": {},
   "outputs": [],
   "source": [
    "offline_data.drop_duplicates()"
   ]
  },
  {
   "cell_type": "code",
   "execution_count": 35,
   "metadata": {},
   "outputs": [
    {
     "data": {
      "image/png": "[encoded data removed]",
      "text/plain": [
       "<Figure size 720x576 with 1 Axes>"
      ]
     },
     "metadata": {
      "needs_background": "light"
     },
     "output_type": "display_data"
    }
   ],
   "source": [
    "plt.figure(figsize=(10,8))\n",
    "plt.bar(algoritm_names_list,\n",
    "        [offline_data.shape[0], kendall_data.shape[0], pearson_data.shape[0], moead_data.shape[0]])\n",
    "plt.show()"
   ]
  },
  {
   "cell_type": "code",
   "execution_count": 25,
   "metadata": {},
   "outputs": [],
   "source": [
    "algoritm_names_list = ['Off-MOEA/D', 'OnCL$\\tau$-MOEA/D', 'OnCl$\\rho$-MOEA/D', 'MOEA/D']"
   ]
  },
  {
   "cell_type": "markdown",
   "metadata": {},
   "source": [
    "# Objetivo 1"
   ]
  },
  {
   "cell_type": "code",
   "execution_count": 26,
   "metadata": {},
   "outputs": [
    {
     "data": {
      "image/png": "[encoded data removed]",
      "text/plain": [
       "<Figure size 576x432 with 1 Axes>"
      ]
     },
     "metadata": {
      "needs_background": "light"
     },
     "output_type": "display_data"
    }
   ],
   "source": [
    "objective = 'f1'\n",
    "data_to_plot = [offline_data[objective].values.tolist(),\n",
    "                kendall_data[objective].values.tolist(),\n",
    "                pearson_data[objective].values.tolist(),\n",
    "                moead_data[objective].values.tolist(),\n",
    "               ]\n",
    "plt.figure(figsize=(8, 6))\n",
    "plt.boxplot(data_to_plot, labels=['Offline', 'Kendall', 'Pearson', 'MOEAD'])\n",
    "plt.show()"
   ]
  },
  {
   "cell_type": "markdown",
   "metadata": {},
   "source": [
    "# Objetivo 2"
   ]
  },
  {
   "cell_type": "code",
   "execution_count": 11,
   "metadata": {},
   "outputs": [
    {
     "data": {
      "image/png": "[encoded data removed]",
      "text/plain": [
       "<Figure size 576x432 with 1 Axes>"
      ]
     },
     "metadata": {
      "needs_background": "light"
     },
     "output_type": "display_data"
    }
   ],
   "source": [
    "objective = 'f2'\n",
    "data_to_plot = [offline_data[objective].values.tolist(),\n",
    "                kendall_data[objective].values.tolist(),\n",
    "                pearson_data[objective].values.tolist(),\n",
    "                moead_data[objective].values.tolist(),\n",
    "               ]\n",
    "plt.figure(figsize=(8, 6))\n",
    "plt.boxplot(data_to_plot, labels=['Offline', 'Kendall', 'Pearson', 'MOEAD'])\n",
    "plt.show()"
   ]
  },
  {
   "cell_type": "markdown",
   "metadata": {},
   "source": [
    "# Objetivo 3"
   ]
  },
  {
   "cell_type": "code",
   "execution_count": 12,
   "metadata": {},
   "outputs": [
    {
     "data": {
      "image/png": "[encoded data removed]",
      "text/plain": [
       "<Figure size 576x432 with 1 Axes>"
      ]
     },
     "metadata": {
      "needs_background": "light"
     },
     "output_type": "display_data"
    }
   ],
   "source": [
    "objective = 'f3'\n",
    "data_to_plot = [offline_data[objective].values.tolist(),\n",
    "                kendall_data[objective].values.tolist(),\n",
    "                pearson_data[objective].values.tolist(),\n",
    "                moead_data[objective].values.tolist(),\n",
    "               ]\n",
    "plt.figure(figsize=(8, 6))\n",
    "plt.boxplot(data_to_plot, labels=['Offline', 'Kendall', 'Pearson', 'MOEAD'])\n",
    "plt.show()"
   ]
  },
  {
   "cell_type": "markdown",
   "metadata": {},
   "source": [
    "# Objetivo 4"
   ]
  },
  {
   "cell_type": "code",
   "execution_count": 13,
   "metadata": {},
   "outputs": [
    {
     "data": {
      "image/png": "[encoded data removed]",
      "text/plain": [
       "<Figure size 576x432 with 1 Axes>"
      ]
     },
     "metadata": {
      "needs_background": "light"
     },
     "output_type": "display_data"
    }
   ],
   "source": [
    "objective = 'f4'\n",
    "data_to_plot = [offline_data[objective].values.tolist(),\n",
    "                kendall_data[objective].values.tolist(),\n",
    "                pearson_data[objective].values.tolist(),\n",
    "                moead_data[objective].values.tolist(),\n",
    "               ]\n",
    "plt.figure(figsize=(8, 6))\n",
    "plt.boxplot(data_to_plot, labels=['Offline', 'Kendall', 'Pearson', 'MOEAD'])\n",
    "plt.show()"
   ]
  },
  {
   "cell_type": "markdown",
   "metadata": {},
   "source": [
    "# Objetivo 5"
   ]
  },
  {
   "cell_type": "code",
   "execution_count": 14,
   "metadata": {},
   "outputs": [
    {
     "data": {
      "image/png": "[encoded data removed]",
      "text/plain": [
       "<Figure size 576x432 with 1 Axes>"
      ]
     },
     "metadata": {
      "needs_background": "light"
     },
     "output_type": "display_data"
    }
   ],
   "source": [
    "objective = 'f5'\n",
    "data_to_plot = [offline_data[objective].values.tolist(),\n",
    "                kendall_data[objective].values.tolist(),\n",
    "                pearson_data[objective].values.tolist(),\n",
    "                moead_data[objective].values.tolist(),\n",
    "               ]\n",
    "plt.figure(figsize=(8, 6))\n",
    "plt.boxplot(data_to_plot, labels=['Offline', 'Kendall', 'Pearson', 'MOEAD'])\n",
    "plt.show()"
   ]
  },
  {
   "cell_type": "markdown",
   "metadata": {},
   "source": [
    "# Objetivo 6"
   ]
  },
  {
   "cell_type": "code",
   "execution_count": 15,
   "metadata": {},
   "outputs": [
    {
     "data": {
      "image/png": "[encoded data removed]",
      "text/plain": [
       "<Figure size 576x432 with 1 Axes>"
      ]
     },
     "metadata": {
      "needs_background": "light"
     },
     "output_type": "display_data"
    }
   ],
   "source": [
    "objective = 'f6'\n",
    "data_to_plot = [offline_data[objective].values.tolist(),\n",
    "                kendall_data[objective].values.tolist(),\n",
    "                pearson_data[objective].values.tolist(),\n",
    "                moead_data[objective].values.tolist(),\n",
    "               ]\n",
    "plt.figure(figsize=(8, 6))\n",
    "plt.boxplot(data_to_plot, labels=['Offline', 'Kendall', 'Pearson', 'MOEAD'])\n",
    "plt.show()"
   ]
  },
  {
   "cell_type": "markdown",
   "metadata": {},
   "source": [
    "# Objetivo 7"
   ]
  },
  {
   "cell_type": "code",
   "execution_count": 16,
   "metadata": {},
   "outputs": [
    {
     "data": {
      "image/png": "[encoded data removed]",
      "text/plain": [
       "<Figure size 576x432 with 1 Axes>"
      ]
     },
     "metadata": {
      "needs_background": "light"
     },
     "output_type": "display_data"
    }
   ],
   "source": [
    "objective = 'f7'\n",
    "data_to_plot = [offline_data[objective].values.tolist(),\n",
    "                kendall_data[objective].values.tolist(),\n",
    "                pearson_data[objective].values.tolist(),\n",
    "                moead_data[objective].values.tolist(),\n",
    "               ]\n",
    "plt.figure(figsize=(8, 6))\n",
    "plt.boxplot(data_to_plot, labels=['Offline', 'Kendall', 'Pearson', 'MOEAD'])\n",
    "plt.show()"
   ]
  },
  {
   "cell_type": "markdown",
   "metadata": {},
   "source": [
    "# Objetivo 8"
   ]
  },
  {
   "cell_type": "code",
   "execution_count": 17,
   "metadata": {},
   "outputs": [
    {
     "data": {
      "image/png": "[encoded data removed]",
      "text/plain": [
       "<Figure size 576x432 with 1 Axes>"
      ]
     },
     "metadata": {
      "needs_background": "light"
     },
     "output_type": "display_data"
    }
   ],
   "source": [
    "objective = 'f8'\n",
    "data_to_plot = [offline_data[objective].values.tolist(),\n",
    "                kendall_data[objective].values.tolist(),\n",
    "                pearson_data[objective].values.tolist(),\n",
    "                moead_data[objective].values.tolist(),\n",
    "               ]\n",
    "plt.figure(figsize=(8, 6))\n",
    "plt.boxplot(data_to_plot, labels=['Offline', 'Kendall', 'Pearson', 'MOEAD'])\n",
    "plt.show()"
   ]
  },
  {
   "cell_type": "code",
   "execution_count": null,
   "metadata": {},
   "outputs": [],
   "source": []
  }
 ],
 "metadata": {
  "kernelspec": {
   "display_name": "Python 3",
   "language": "python",
   "name": "python3"
  },
  "language_info": {
   "codemirror_mode": {
    "name": "ipython",
    "version": 3
   },
   "file_extension": ".py",
   "mimetype": "text/x-python",
   "name": "python",
   "nbconvert_exporter": "python",
   "pygments_lexer": "ipython3",
   "version": "3.6.9"
  }
 },
 "nbformat": 4,
 "nbformat_minor": 4
}
