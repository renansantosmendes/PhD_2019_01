{
 "cells": [
  {
   "cell_type": "code",
   "execution_count": 22,
   "metadata": {},
   "outputs": [],
   "source": [
    "import pandas as pd\n",
    "import numpy as np"
   ]
  },
  {
   "cell_type": "code",
   "execution_count": 4,
   "metadata": {},
   "outputs": [],
   "source": [
    "data = []\n",
    "for i in range(10):\n",
    "    file_name = 'population_{}.csv'.format(i)\n",
    "    with open(file_name, 'r') as file:\n",
    "        data = data + [line for line in file.readlines()]\n",
    "            "
   ]
  },
  {
   "cell_type": "code",
   "execution_count": 6,
   "metadata": {},
   "outputs": [
    {
     "data": {
      "text/plain": [
       "600000"
      ]
     },
     "execution_count": 6,
     "metadata": {},
     "output_type": "execute_result"
    }
   ],
   "source": [
    "len(data)"
   ]
  },
  {
   "cell_type": "code",
   "execution_count": 14,
   "metadata": {},
   "outputs": [
    {
     "data": {
      "text/plain": [
       "[0.5090823280228381,\n",
       " 0.4394736842105263,\n",
       " 0.6701030927835051,\n",
       " 0.7857142857142857,\n",
       " 0.3937341236240474,\n",
       " 0.21875,\n",
       " 0.65,\n",
       " 0.8374499560680999]"
      ]
     },
     "execution_count": 14,
     "metadata": {},
     "output_type": "execute_result"
    }
   ],
   "source": [
    "[float(number) for number in line.replace('[','').replace(']\\n','').split(', ')]"
   ]
  },
  {
   "cell_type": "code",
   "execution_count": 15,
   "metadata": {},
   "outputs": [],
   "source": [
    "def convert_line(line):\n",
    "    return [float(number) for number in line.replace('[','').replace(']\\n','').split(', ')]"
   ]
  },
  {
   "cell_type": "code",
   "execution_count": 18,
   "metadata": {},
   "outputs": [],
   "source": [
    "data_df = pd.DataFrame(data=[convert_line(i) for i in data], columns=['f1','f2','f3','f4','f5','f6','f7','f8'])"
   ]
  },
  {
   "cell_type": "code",
   "execution_count": 19,
   "metadata": {},
   "outputs": [
    {
     "data": {
      "text/html": [
       "<div>\n",
       "<style scoped>\n",
       "    .dataframe tbody tr th:only-of-type {\n",
       "        vertical-align: middle;\n",
       "    }\n",
       "\n",
       "    .dataframe tbody tr th {\n",
       "        vertical-align: top;\n",
       "    }\n",
       "\n",
       "    .dataframe thead th {\n",
       "        text-align: right;\n",
       "    }\n",
       "</style>\n",
       "<table border=\"1\" class=\"dataframe\">\n",
       "  <thead>\n",
       "    <tr style=\"text-align: right;\">\n",
       "      <th></th>\n",
       "      <th>f1</th>\n",
       "      <th>f2</th>\n",
       "      <th>f3</th>\n",
       "      <th>f4</th>\n",
       "      <th>f5</th>\n",
       "      <th>f6</th>\n",
       "      <th>f7</th>\n",
       "      <th>f8</th>\n",
       "    </tr>\n",
       "  </thead>\n",
       "  <tbody>\n",
       "    <tr>\n",
       "      <th>0</th>\n",
       "      <td>0.509082</td>\n",
       "      <td>0.439474</td>\n",
       "      <td>0.670103</td>\n",
       "      <td>0.785714</td>\n",
       "      <td>0.393734</td>\n",
       "      <td>0.218750</td>\n",
       "      <td>0.650000</td>\n",
       "      <td>0.837450</td>\n",
       "    </tr>\n",
       "    <tr>\n",
       "      <th>1</th>\n",
       "      <td>0.360519</td>\n",
       "      <td>0.580263</td>\n",
       "      <td>0.484536</td>\n",
       "      <td>0.285714</td>\n",
       "      <td>0.672312</td>\n",
       "      <td>0.245536</td>\n",
       "      <td>0.405952</td>\n",
       "      <td>0.410951</td>\n",
       "    </tr>\n",
       "    <tr>\n",
       "      <th>2</th>\n",
       "      <td>0.332673</td>\n",
       "      <td>0.552632</td>\n",
       "      <td>0.783505</td>\n",
       "      <td>0.500000</td>\n",
       "      <td>0.454699</td>\n",
       "      <td>0.517857</td>\n",
       "      <td>0.705952</td>\n",
       "      <td>0.548873</td>\n",
       "    </tr>\n",
       "    <tr>\n",
       "      <th>3</th>\n",
       "      <td>0.198073</td>\n",
       "      <td>0.325000</td>\n",
       "      <td>0.752577</td>\n",
       "      <td>0.285714</td>\n",
       "      <td>0.258256</td>\n",
       "      <td>0.535714</td>\n",
       "      <td>0.615476</td>\n",
       "      <td>0.573397</td>\n",
       "    </tr>\n",
       "    <tr>\n",
       "      <th>4</th>\n",
       "      <td>0.641196</td>\n",
       "      <td>0.473684</td>\n",
       "      <td>0.711340</td>\n",
       "      <td>0.642857</td>\n",
       "      <td>0.372566</td>\n",
       "      <td>0.410714</td>\n",
       "      <td>0.677381</td>\n",
       "      <td>0.803903</td>\n",
       "    </tr>\n",
       "    <tr>\n",
       "      <th>...</th>\n",
       "      <td>...</td>\n",
       "      <td>...</td>\n",
       "      <td>...</td>\n",
       "      <td>...</td>\n",
       "      <td>...</td>\n",
       "      <td>...</td>\n",
       "      <td>...</td>\n",
       "      <td>...</td>\n",
       "    </tr>\n",
       "    <tr>\n",
       "      <th>599995</th>\n",
       "      <td>0.613811</td>\n",
       "      <td>0.301316</td>\n",
       "      <td>0.628866</td>\n",
       "      <td>0.571429</td>\n",
       "      <td>0.330229</td>\n",
       "      <td>0.540179</td>\n",
       "      <td>0.602381</td>\n",
       "      <td>0.684491</td>\n",
       "    </tr>\n",
       "    <tr>\n",
       "      <th>599996</th>\n",
       "      <td>0.495660</td>\n",
       "      <td>0.363158</td>\n",
       "      <td>0.804124</td>\n",
       "      <td>0.642857</td>\n",
       "      <td>0.296359</td>\n",
       "      <td>0.142857</td>\n",
       "      <td>0.739286</td>\n",
       "      <td>0.852953</td>\n",
       "    </tr>\n",
       "    <tr>\n",
       "      <th>599997</th>\n",
       "      <td>0.596164</td>\n",
       "      <td>0.347368</td>\n",
       "      <td>0.443299</td>\n",
       "      <td>0.428571</td>\n",
       "      <td>0.318374</td>\n",
       "      <td>0.593750</td>\n",
       "      <td>0.555952</td>\n",
       "      <td>0.635257</td>\n",
       "    </tr>\n",
       "    <tr>\n",
       "      <th>599998</th>\n",
       "      <td>0.486233</td>\n",
       "      <td>0.317105</td>\n",
       "      <td>0.556701</td>\n",
       "      <td>0.428571</td>\n",
       "      <td>0.202371</td>\n",
       "      <td>0.526786</td>\n",
       "      <td>0.717857</td>\n",
       "      <td>0.703843</td>\n",
       "    </tr>\n",
       "    <tr>\n",
       "      <th>599999</th>\n",
       "      <td>0.612361</td>\n",
       "      <td>0.521053</td>\n",
       "      <td>0.804124</td>\n",
       "      <td>0.571429</td>\n",
       "      <td>0.584251</td>\n",
       "      <td>0.602679</td>\n",
       "      <td>0.395238</td>\n",
       "      <td>0.691565</td>\n",
       "    </tr>\n",
       "  </tbody>\n",
       "</table>\n",
       "<p>600000 rows × 8 columns</p>\n",
       "</div>"
      ],
      "text/plain": [
       "              f1        f2        f3        f4        f5        f6        f7  \\\n",
       "0       0.509082  0.439474  0.670103  0.785714  0.393734  0.218750  0.650000   \n",
       "1       0.360519  0.580263  0.484536  0.285714  0.672312  0.245536  0.405952   \n",
       "2       0.332673  0.552632  0.783505  0.500000  0.454699  0.517857  0.705952   \n",
       "3       0.198073  0.325000  0.752577  0.285714  0.258256  0.535714  0.615476   \n",
       "4       0.641196  0.473684  0.711340  0.642857  0.372566  0.410714  0.677381   \n",
       "...          ...       ...       ...       ...       ...       ...       ...   \n",
       "599995  0.613811  0.301316  0.628866  0.571429  0.330229  0.540179  0.602381   \n",
       "599996  0.495660  0.363158  0.804124  0.642857  0.296359  0.142857  0.739286   \n",
       "599997  0.596164  0.347368  0.443299  0.428571  0.318374  0.593750  0.555952   \n",
       "599998  0.486233  0.317105  0.556701  0.428571  0.202371  0.526786  0.717857   \n",
       "599999  0.612361  0.521053  0.804124  0.571429  0.584251  0.602679  0.395238   \n",
       "\n",
       "              f8  \n",
       "0       0.837450  \n",
       "1       0.410951  \n",
       "2       0.548873  \n",
       "3       0.573397  \n",
       "4       0.803903  \n",
       "...          ...  \n",
       "599995  0.684491  \n",
       "599996  0.852953  \n",
       "599997  0.635257  \n",
       "599998  0.703843  \n",
       "599999  0.691565  \n",
       "\n",
       "[600000 rows x 8 columns]"
      ]
     },
     "execution_count": 19,
     "metadata": {},
     "output_type": "execute_result"
    }
   ],
   "source": [
    "data_df"
   ]
  },
  {
   "cell_type": "code",
   "execution_count": 24,
   "metadata": {},
   "outputs": [
    {
     "name": "stdout",
     "output_type": "stream",
     "text": [
      "1\n",
      "2\n",
      "3\n",
      "4\n",
      "5\n",
      "6\n",
      "7\n",
      "8\n",
      "9\n",
      "10\n",
      "11\n",
      "12\n",
      "13\n",
      "14\n",
      "15\n",
      "16\n",
      "17\n",
      "18\n",
      "19\n",
      "20\n",
      "21\n"
     ]
    }
   ],
   "source": [
    "for i in np.arange(1,22,1):\n",
    "    print(i)\n",
    "    data_df.sample(n=60000).to_csv('random_population_{}.csv'.format(i),sep=',', index=False, encoding='utf-8')"
   ]
  },
  {
   "cell_type": "code",
   "execution_count": null,
   "metadata": {},
   "outputs": [],
   "source": []
  }
 ],
 "metadata": {
  "kernelspec": {
   "display_name": "Python 3",
   "language": "python",
   "name": "python3"
  },
  "language_info": {
   "codemirror_mode": {
    "name": "ipython",
    "version": 3
   },
   "file_extension": ".py",
   "mimetype": "text/x-python",
   "name": "python",
   "nbconvert_exporter": "python",
   "pygments_lexer": "ipython3",
   "version": "3.8.3"
  }
 },
 "nbformat": 4,
 "nbformat_minor": 4
}
