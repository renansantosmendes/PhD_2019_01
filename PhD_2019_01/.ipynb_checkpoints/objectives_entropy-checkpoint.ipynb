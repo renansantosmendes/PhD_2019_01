{
 "cells": [
  {
   "cell_type": "code",
   "execution_count": 16,
   "metadata": {},
   "outputs": [],
   "source": [
    "import numpy as np\n",
    "import pandas as pd\n",
    "from scipy.stats import gmean\n",
    "from scipy.stats import entropy"
   ]
  },
  {
   "cell_type": "code",
   "execution_count": 2,
   "metadata": {},
   "outputs": [
    {
     "name": "stdout",
     "output_type": "stream",
     "text": [
      " agregacoes_analise.txt\t\t\t   __pycache__\r\n",
      " analysis_2.ipynb\t\t\t   random_solution_objectives.csv\r\n",
      " analysis_2.pdf\t\t\t\t   RandomSolutions\r\n",
      " analysis.ipynb\t\t\t\t   random_solutions.csv\r\n",
      " analysis_relatorio.ipynb\t\t   ReferenceSet.txt\r\n",
      " analysis_relatorio.pdf\t\t\t   ResultGraphics\r\n",
      "'Dendograms Random Solutions'\t\t   Results_2020\r\n",
      " functions-analysis.ipynb\t\t   script1.py\r\n",
      " hierarchical_clustering_solution.R\t   script2.py\r\n",
      " hierarchical_clustering_solutions.ipynb   script-paretos-moead.py\r\n",
      " hypervolumes.ipynb\t\t\t   script-paretos-moead-sa.py\r\n",
      " initial_population.txt\t\t\t   script.py\r\n",
      " methods.py\t\t\t\t   scripts_for_cluster_executions\r\n",
      " nbactions.xml\t\t\t\t   solutions_pre_processing.ipynb\r\n",
      " NewResults\t\t\t\t   src\r\n",
      " pareto_final.txt\t\t\t   target\r\n",
      "'plots do pareto.ipynb'\t\t\t   Untitled.ipynb\r\n",
      " pom.xml\r\n"
     ]
    }
   ],
   "source": [
    "!ls"
   ]
  },
  {
   "cell_type": "code",
   "execution_count": 4,
   "metadata": {},
   "outputs": [],
   "source": [
    "data = pd.read_csv('random_solution_objectives.csv')"
   ]
  },
  {
   "cell_type": "code",
   "execution_count": 5,
   "metadata": {},
   "outputs": [
    {
     "data": {
      "text/html": [
       "<div>\n",
       "<style scoped>\n",
       "    .dataframe tbody tr th:only-of-type {\n",
       "        vertical-align: middle;\n",
       "    }\n",
       "\n",
       "    .dataframe tbody tr th {\n",
       "        vertical-align: top;\n",
       "    }\n",
       "\n",
       "    .dataframe thead th {\n",
       "        text-align: right;\n",
       "    }\n",
       "</style>\n",
       "<table border=\"1\" class=\"dataframe\">\n",
       "  <thead>\n",
       "    <tr style=\"text-align: right;\">\n",
       "      <th></th>\n",
       "      <th>f1</th>\n",
       "      <th>f2</th>\n",
       "      <th>f3</th>\n",
       "      <th>f4</th>\n",
       "      <th>f5</th>\n",
       "      <th>f6</th>\n",
       "      <th>f7</th>\n",
       "      <th>f8</th>\n",
       "    </tr>\n",
       "  </thead>\n",
       "  <tbody>\n",
       "    <tr>\n",
       "      <th>0</th>\n",
       "      <td>171814.0</td>\n",
       "      <td>194.0</td>\n",
       "      <td>145.0</td>\n",
       "      <td>11.0</td>\n",
       "      <td>1101.0</td>\n",
       "      <td>123.0</td>\n",
       "      <td>1286.0</td>\n",
       "      <td>0.454545</td>\n",
       "    </tr>\n",
       "    <tr>\n",
       "      <th>1</th>\n",
       "      <td>169522.0</td>\n",
       "      <td>198.0</td>\n",
       "      <td>162.0</td>\n",
       "      <td>11.0</td>\n",
       "      <td>1080.0</td>\n",
       "      <td>157.0</td>\n",
       "      <td>1293.0</td>\n",
       "      <td>0.477273</td>\n",
       "    </tr>\n",
       "    <tr>\n",
       "      <th>2</th>\n",
       "      <td>167830.0</td>\n",
       "      <td>221.0</td>\n",
       "      <td>167.0</td>\n",
       "      <td>12.0</td>\n",
       "      <td>949.0</td>\n",
       "      <td>124.0</td>\n",
       "      <td>1458.0</td>\n",
       "      <td>0.479167</td>\n",
       "    </tr>\n",
       "    <tr>\n",
       "      <th>3</th>\n",
       "      <td>174978.0</td>\n",
       "      <td>221.0</td>\n",
       "      <td>152.0</td>\n",
       "      <td>12.0</td>\n",
       "      <td>1196.0</td>\n",
       "      <td>153.0</td>\n",
       "      <td>1192.0</td>\n",
       "      <td>0.500000</td>\n",
       "    </tr>\n",
       "    <tr>\n",
       "      <th>4</th>\n",
       "      <td>158096.0</td>\n",
       "      <td>180.0</td>\n",
       "      <td>161.0</td>\n",
       "      <td>10.0</td>\n",
       "      <td>977.0</td>\n",
       "      <td>127.0</td>\n",
       "      <td>1405.0</td>\n",
       "      <td>0.425000</td>\n",
       "    </tr>\n",
       "  </tbody>\n",
       "</table>\n",
       "</div>"
      ],
      "text/plain": [
       "         f1     f2     f3    f4      f5     f6      f7        f8\n",
       "0  171814.0  194.0  145.0  11.0  1101.0  123.0  1286.0  0.454545\n",
       "1  169522.0  198.0  162.0  11.0  1080.0  157.0  1293.0  0.477273\n",
       "2  167830.0  221.0  167.0  12.0   949.0  124.0  1458.0  0.479167\n",
       "3  174978.0  221.0  152.0  12.0  1196.0  153.0  1192.0  0.500000\n",
       "4  158096.0  180.0  161.0  10.0   977.0  127.0  1405.0  0.425000"
      ]
     },
     "execution_count": 5,
     "metadata": {},
     "output_type": "execute_result"
    }
   ],
   "source": [
    "data.head()"
   ]
  },
  {
   "cell_type": "code",
   "execution_count": 10,
   "metadata": {},
   "outputs": [
    {
     "data": {
      "text/plain": [
       "array([9.13673116, 9.0289813 , 9.20590335, 9.17367013, 9.0741041 ,\n",
       "       9.0625891 , 9.11941442, 9.17804505])"
      ]
     },
     "execution_count": 10,
     "metadata": {},
     "output_type": "execute_result"
    }
   ],
   "source": [
    "data_entropy = entropy(data)\n",
    "data_entropy"
   ]
  },
  {
   "cell_type": "code",
   "execution_count": 11,
   "metadata": {},
   "outputs": [
    {
     "data": {
      "text/plain": [
       "2"
      ]
     },
     "execution_count": 11,
     "metadata": {},
     "output_type": "execute_result"
    }
   ],
   "source": [
    "np.argmax(data_entropy)"
   ]
  },
  {
   "cell_type": "code",
   "execution_count": 13,
   "metadata": {},
   "outputs": [
    {
     "data": {
      "text/plain": [
       "350131.8005"
      ]
     },
     "execution_count": 13,
     "metadata": {},
     "output_type": "execute_result"
    }
   ],
   "source": [
    "np.mean(data['f1'])"
   ]
  },
  {
   "cell_type": "code",
   "execution_count": 14,
   "metadata": {},
   "outputs": [],
   "source": []
  },
  {
   "cell_type": "code",
   "execution_count": 15,
   "metadata": {},
   "outputs": [
    {
     "data": {
      "text/plain": [
       "322522.85798102076"
      ]
     },
     "execution_count": 15,
     "metadata": {},
     "output_type": "execute_result"
    }
   ],
   "source": [
    "gmean(data['f1'])"
   ]
  },
  {
   "cell_type": "code",
   "execution_count": null,
   "metadata": {},
   "outputs": [],
   "source": [
    "def dispersion_ration(values):\n",
    "    AM = np.mean(values)\n",
    "    GM = gmean(values)"
   ]
  }
 ],
 "metadata": {
  "kernelspec": {
   "display_name": "Python 3",
   "language": "python",
   "name": "python3"
  },
  "language_info": {
   "codemirror_mode": {
    "name": "ipython",
    "version": 3
   },
   "file_extension": ".py",
   "mimetype": "text/x-python",
   "name": "python",
   "nbconvert_exporter": "python",
   "pygments_lexer": "ipython3",
   "version": "3.6.9"
  }
 },
 "nbformat": 4,
 "nbformat_minor": 4
}
