{
 "cells": [
  {
   "cell_type": "code",
   "execution_count": 1,
   "metadata": {},
   "outputs": [],
   "source": [
    "import numpy as np\n",
    "import pandas as pd\n",
    "from scipy.stats import gmean\n",
    "from scipy.stats import entropy"
   ]
  },
  {
   "cell_type": "code",
   "execution_count": 2,
   "metadata": {},
   "outputs": [
    {
     "name": "stdout",
     "output_type": "stream",
     "text": [
      " agregacoes_analise.txt\t\t\t   pom.xml\r\n",
      " analysis_2.ipynb\t\t\t   __pycache__\r\n",
      " analysis_2.pdf\t\t\t\t   random_solution_objectives.csv\r\n",
      " analysis.ipynb\t\t\t\t   RandomSolutions\r\n",
      " analysis_relatorio.ipynb\t\t   random_solutions.csv\r\n",
      " analysis_relatorio.pdf\t\t\t   ReferenceSet.txt\r\n",
      "'Dendograms Random Solutions'\t\t   ResultGraphics\r\n",
      " functions-analysis.ipynb\t\t   Results_2020\r\n",
      " hierarchical_clustering_solution.R\t   script1.py\r\n",
      " hierarchical_clustering_solutions.ipynb   script2.py\r\n",
      " hypervolumes.ipynb\t\t\t   script-paretos-moead.py\r\n",
      " initial_population.txt\t\t\t   script-paretos-moead-sa.py\r\n",
      " methods.py\t\t\t\t   script.py\r\n",
      " nbactions.xml\t\t\t\t   scripts_for_cluster_executions\r\n",
      " NewResults\t\t\t\t   solutions_pre_processing.ipynb\r\n",
      " objectives_entropy.ipynb\t\t   src\r\n",
      " pareto_final.txt\t\t\t   target\r\n",
      "'plots do pareto.ipynb'\r\n"
     ]
    }
   ],
   "source": [
    "!ls"
   ]
  },
  {
   "cell_type": "code",
   "execution_count": 5,
   "metadata": {},
   "outputs": [],
   "source": [
    "def dispersion_ratio(values):\n",
    "    AM = np.mean(values)\n",
    "    GM = gmean(values)\n",
    "    return AM/GM"
   ]
  },
  {
   "cell_type": "code",
   "execution_count": 6,
   "metadata": {},
   "outputs": [],
   "source": [
    "data = pd.read_csv('random_solution_objectives.csv')"
   ]
  },
  {
   "cell_type": "code",
   "execution_count": 7,
   "metadata": {},
   "outputs": [
    {
     "data": {
      "text/html": [
       "<div>\n",
       "<style scoped>\n",
       "    .dataframe tbody tr th:only-of-type {\n",
       "        vertical-align: middle;\n",
       "    }\n",
       "\n",
       "    .dataframe tbody tr th {\n",
       "        vertical-align: top;\n",
       "    }\n",
       "\n",
       "    .dataframe thead th {\n",
       "        text-align: right;\n",
       "    }\n",
       "</style>\n",
       "<table border=\"1\" class=\"dataframe\">\n",
       "  <thead>\n",
       "    <tr style=\"text-align: right;\">\n",
       "      <th></th>\n",
       "      <th>f1</th>\n",
       "      <th>f2</th>\n",
       "      <th>f3</th>\n",
       "      <th>f4</th>\n",
       "      <th>f5</th>\n",
       "      <th>f6</th>\n",
       "      <th>f7</th>\n",
       "      <th>f8</th>\n",
       "    </tr>\n",
       "  </thead>\n",
       "  <tbody>\n",
       "    <tr>\n",
       "      <th>0</th>\n",
       "      <td>171814.0</td>\n",
       "      <td>194.0</td>\n",
       "      <td>145.0</td>\n",
       "      <td>11.0</td>\n",
       "      <td>1101.0</td>\n",
       "      <td>123.0</td>\n",
       "      <td>1286.0</td>\n",
       "      <td>0.454545</td>\n",
       "    </tr>\n",
       "    <tr>\n",
       "      <th>1</th>\n",
       "      <td>169522.0</td>\n",
       "      <td>198.0</td>\n",
       "      <td>162.0</td>\n",
       "      <td>11.0</td>\n",
       "      <td>1080.0</td>\n",
       "      <td>157.0</td>\n",
       "      <td>1293.0</td>\n",
       "      <td>0.477273</td>\n",
       "    </tr>\n",
       "    <tr>\n",
       "      <th>2</th>\n",
       "      <td>167830.0</td>\n",
       "      <td>221.0</td>\n",
       "      <td>167.0</td>\n",
       "      <td>12.0</td>\n",
       "      <td>949.0</td>\n",
       "      <td>124.0</td>\n",
       "      <td>1458.0</td>\n",
       "      <td>0.479167</td>\n",
       "    </tr>\n",
       "    <tr>\n",
       "      <th>3</th>\n",
       "      <td>174978.0</td>\n",
       "      <td>221.0</td>\n",
       "      <td>152.0</td>\n",
       "      <td>12.0</td>\n",
       "      <td>1196.0</td>\n",
       "      <td>153.0</td>\n",
       "      <td>1192.0</td>\n",
       "      <td>0.500000</td>\n",
       "    </tr>\n",
       "    <tr>\n",
       "      <th>4</th>\n",
       "      <td>158096.0</td>\n",
       "      <td>180.0</td>\n",
       "      <td>161.0</td>\n",
       "      <td>10.0</td>\n",
       "      <td>977.0</td>\n",
       "      <td>127.0</td>\n",
       "      <td>1405.0</td>\n",
       "      <td>0.425000</td>\n",
       "    </tr>\n",
       "  </tbody>\n",
       "</table>\n",
       "</div>"
      ],
      "text/plain": [
       "         f1     f2     f3    f4      f5     f6      f7        f8\n",
       "0  171814.0  194.0  145.0  11.0  1101.0  123.0  1286.0  0.454545\n",
       "1  169522.0  198.0  162.0  11.0  1080.0  157.0  1293.0  0.477273\n",
       "2  167830.0  221.0  167.0  12.0   949.0  124.0  1458.0  0.479167\n",
       "3  174978.0  221.0  152.0  12.0  1196.0  153.0  1192.0  0.500000\n",
       "4  158096.0  180.0  161.0  10.0   977.0  127.0  1405.0  0.425000"
      ]
     },
     "execution_count": 7,
     "metadata": {},
     "output_type": "execute_result"
    }
   ],
   "source": [
    "data.head()"
   ]
  },
  {
   "cell_type": "code",
   "execution_count": 8,
   "metadata": {},
   "outputs": [
    {
     "data": {
      "text/plain": [
       "array([9.13673116, 9.0289813 , 9.20590335, 9.17367013, 9.0741041 ,\n",
       "       9.0625891 , 9.11941442, 9.17804505])"
      ]
     },
     "execution_count": 8,
     "metadata": {},
     "output_type": "execute_result"
    }
   ],
   "source": [
    "data_entropy = entropy(data)\n",
    "data_entropy"
   ]
  },
  {
   "cell_type": "code",
   "execution_count": 9,
   "metadata": {},
   "outputs": [
    {
     "data": {
      "text/plain": [
       "2"
      ]
     },
     "execution_count": 9,
     "metadata": {},
     "output_type": "execute_result"
    }
   ],
   "source": [
    "np.argmax(data_entropy)"
   ]
  },
  {
   "cell_type": "code",
   "execution_count": 10,
   "metadata": {},
   "outputs": [
    {
     "data": {
      "text/plain": [
       "1.0339641925184317"
      ]
     },
     "execution_count": 10,
     "metadata": {},
     "output_type": "execute_result"
    }
   ],
   "source": [
    "dispersion_ratio(data['f8'].values)"
   ]
  },
  {
   "cell_type": "code",
   "execution_count": 11,
   "metadata": {},
   "outputs": [
    {
     "data": {
      "text/plain": [
       "f1    1.698344e+10\n",
       "f2    1.439881e+05\n",
       "f3    2.498647e+02\n",
       "f4    2.042612e+01\n",
       "f5    2.334206e+06\n",
       "f6    5.256960e+04\n",
       "f7    1.523219e+06\n",
       "f8    8.954995e-03\n",
       "dtype: float64"
      ]
     },
     "execution_count": 11,
     "metadata": {},
     "output_type": "execute_result"
    }
   ],
   "source": [
    "np.var(data)"
   ]
  },
  {
   "cell_type": "code",
   "execution_count": 12,
   "metadata": {},
   "outputs": [
    {
     "data": {
      "text/plain": [
       "array([[1.71814000e+05, 1.94000000e+02, 1.45000000e+02, ...,\n",
       "        1.23000000e+02, 1.28600000e+03, 4.54545455e-01],\n",
       "       [1.69522000e+05, 1.98000000e+02, 1.62000000e+02, ...,\n",
       "        1.57000000e+02, 1.29300000e+03, 4.77272727e-01],\n",
       "       [1.67830000e+05, 2.21000000e+02, 1.67000000e+02, ...,\n",
       "        1.24000000e+02, 1.45800000e+03, 4.79166667e-01],\n",
       "       ...,\n",
       "       [5.40177000e+05, 1.11900000e+03, 1.79000000e+02, ...,\n",
       "        7.77000000e+02, 4.57900000e+03, 2.82608696e-01],\n",
       "       [5.00452000e+05, 1.16700000e+03, 1.81000000e+02, ...,\n",
       "        6.85000000e+02, 4.82400000e+03, 2.08333333e-01],\n",
       "       [5.25798000e+05, 1.27500000e+03, 1.95000000e+02, ...,\n",
       "        7.93000000e+02, 4.68300000e+03, 2.00000000e-01]])"
      ]
     },
     "execution_count": 12,
     "metadata": {},
     "output_type": "execute_result"
    }
   ],
   "source": [
    "data.values"
   ]
  },
  {
   "cell_type": "code",
   "execution_count": 22,
   "metadata": {},
   "outputs": [],
   "source": [
    "from sklearn.preprocessing import StandardScaler, MinMaxScaler"
   ]
  },
  {
   "cell_type": "code",
   "execution_count": 23,
   "metadata": {},
   "outputs": [],
   "source": [
    "data_n = StandardScaler().fit_transform(data.values)\n",
    "data_m = MinMaxScaler().fit_transform(data.values)"
   ]
  },
  {
   "cell_type": "code",
   "execution_count": 20,
   "metadata": {},
   "outputs": [
    {
     "data": {
      "text/plain": [
       "f1    1.0\n",
       "f2    1.0\n",
       "f3    1.0\n",
       "f4    1.0\n",
       "f5    1.0\n",
       "f6    1.0\n",
       "f7    1.0\n",
       "f8    1.0\n",
       "dtype: float64"
      ]
     },
     "execution_count": 20,
     "metadata": {},
     "output_type": "execute_result"
    }
   ],
   "source": [
    "np.var(pd.DataFrame(data_n, columns=data.columns))"
   ]
  },
  {
   "cell_type": "code",
   "execution_count": 24,
   "metadata": {},
   "outputs": [
    {
     "data": {
      "text/plain": [
       "f1    0.088833\n",
       "f2    0.049012\n",
       "f3    0.015739\n",
       "f4    0.026054\n",
       "f5    0.086824\n",
       "f6    0.075761\n",
       "f7    0.088486\n",
       "f8    0.025478\n",
       "dtype: float64"
      ]
     },
     "execution_count": 24,
     "metadata": {},
     "output_type": "execute_result"
    }
   ],
   "source": [
    "np.var(pd.DataFrame(data_m, columns=data.columns))"
   ]
  },
  {
   "cell_type": "code",
   "execution_count": 25,
   "metadata": {},
   "outputs": [
    {
     "data": {
      "text/plain": [
       "f1    116080.423500\n",
       "f2       333.440489\n",
       "f3        12.585550\n",
       "f4         3.761887\n",
       "f5      1377.583954\n",
       "f6       200.642227\n",
       "f7      1072.115261\n",
       "f8         0.077878\n",
       "dtype: float64"
      ]
     },
     "execution_count": 25,
     "metadata": {},
     "output_type": "execute_result"
    }
   ],
   "source": [
    "data.mad()"
   ]
  },
  {
   "cell_type": "code",
   "execution_count": 26,
   "metadata": {},
   "outputs": [
    {
     "data": {
      "text/plain": [
       "f1    0.890730\n",
       "f2    0.878729\n",
       "f3    0.796196\n",
       "f4    0.832363\n",
       "f5    0.901672\n",
       "f6    0.875095\n",
       "f7    0.868681\n",
       "f8    0.822965\n",
       "dtype: float64"
      ]
     },
     "execution_count": 26,
     "metadata": {},
     "output_type": "execute_result"
    }
   ],
   "source": [
    "pd.DataFrame(data_n, columns=data.columns).mad()"
   ]
  },
  {
   "cell_type": "code",
   "execution_count": 27,
   "metadata": {},
   "outputs": [
    {
     "data": {
      "text/plain": [
       "f1    0.265480\n",
       "f2    0.194539\n",
       "f3    0.099885\n",
       "f4    0.134353\n",
       "f5    0.265686\n",
       "f6    0.240867\n",
       "f7    0.258403\n",
       "f8    0.131360\n",
       "dtype: float64"
      ]
     },
     "execution_count": 27,
     "metadata": {},
     "output_type": "execute_result"
    }
   ],
   "source": [
    "pd.DataFrame(data_m, columns=data.columns).mad()"
   ]
  },
  {
   "cell_type": "code",
   "execution_count": null,
   "metadata": {},
   "outputs": [],
   "source": []
  }
 ],
 "metadata": {
  "kernelspec": {
   "display_name": "Python 3",
   "language": "python",
   "name": "python3"
  },
  "language_info": {
   "codemirror_mode": {
    "name": "ipython",
    "version": 3
   },
   "file_extension": ".py",
   "mimetype": "text/x-python",
   "name": "python",
   "nbconvert_exporter": "python",
   "pygments_lexer": "ipython3",
   "version": "3.6.9"
  }
 },
 "nbformat": 4,
 "nbformat_minor": 4
}
